{
 "cells": [
  {
   "cell_type": "markdown",
   "metadata": {},
   "source": [
    "## Importing the packages"
   ]
  },
  {
   "cell_type": "code",
   "execution_count": 1,
   "metadata": {},
   "outputs": [],
   "source": [
    "import arcpy\n",
    "from arcpy import env\n",
    "from arcpy.sa import *\n",
    "arcpy.env.overwriteOutput = True"
   ]
  },
  {
   "cell_type": "markdown",
   "metadata": {},
   "source": [
    "## Data processing"
   ]
  },
  {
   "cell_type": "code",
   "execution_count": 6,
   "metadata": {
    "scrolled": true
   },
   "outputs": [
    {
     "name": "stdout",
     "output_type": "stream",
     "text": [
      "... Conversion from excel to database\n",
      "... Event layer\n",
      "... Export to shapefile\n"
     ]
    },
    {
     "data": {
      "text/html": [
       "<div class='gpresult'><h2>Messages</h2><div id='messages'>Start Time: Friday, August 16, 2024 10:30:54 AM<br>Failed to convert: D:/Working_projects/03_JAXA_Coral_reef/Temporary\\\\Average_1.shp. Failed to execute. Parameters are not valid.\\nERROR 000733: Output Feature Class: Same as input Input Features\\nFailed to execute (CopyFeatures).\\n<br>Succeeded at Friday, August 16, 2024 10:30:55 AM (Elapsed Time: 0.70 seconds)<br></div><div id = 'default' /></div></div>"
      ],
      "text/plain": [
       "<Result 'D:\\\\Working_projects\\\\03_JAXA_Coral_reef\\\\Temporary'>"
      ]
     },
     "execution_count": 6,
     "metadata": {},
     "output_type": "execute_result"
    }
   ],
   "source": [
    "# Setting the workspace\n",
    "arcpy.env.workspace = \"Directory of inputs to be paste here.\"\n",
    "\n",
    "# Defining the variables\n",
    "data_average_shp_folder = \"../Temporary\"\n",
    "data_average_site_level_xls = \"Average_at_site_level_1.xlsx\"\n",
    "data_average_site_level_dbf = \"Average_at_site_level_1.dbf\"\n",
    "\n",
    "Layer_name = 'Average_1'\n",
    "factorycode = 4326\n",
    "sr = arcpy.SpatialReference(factorycode)\n",
    "\n",
    "# Conversion from Excel to database\n",
    "print('... Conversion from excel to database')\n",
    "arcpy.conversion.ExcelToTable(\n",
    "    Input_Excel_File=data_average_site_level_xls,\n",
    "    Output_Table=data_average_site_level_dbf\n",
    ")\n",
    "\n",
    "# Creating XY Event Layer\n",
    "print('... Event layer')\n",
    "arcpy.management.MakeXYEventLayer(\n",
    "    table=data_average_site_level_dbf,\n",
    "    in_x_field=\"Long\",\n",
    "    in_y_field=\"lat\",\n",
    "    out_layer=Layer_name,\n",
    "    spatial_reference=sr,\n",
    "    in_z_field=None\n",
    ")\n",
    "\n",
    "# Creating XY Event Layer\n",
    "print('... Export to shapefile')\n",
    "arcpy.conversion.FeatureClassToShapefile(\n",
    "    Input_Features=Layer_name,\n",
    "    Output_Folder=data_average_shp_folder\n",
    ")"
   ]
  },
  {
   "cell_type": "markdown",
   "metadata": {},
   "source": [
    "## GWR at the average level with 3 variables"
   ]
  },
  {
   "cell_type": "code",
   "execution_count": 8,
   "metadata": {
    "scrolled": false
   },
   "outputs": [
    {
     "data": {
      "text/html": [
       "<div class='gpresult'><h2>Messages</h2><div id='messages' data-messages='[\"Start Time: Friday, August 16, 2024 10:33:20 AM\",\"WARNING 001605: Distances for Geographic Coordinates (degrees, minutes, seconds) are analyzed using Chordal Distances in meters.\",\"WARNING 110251: 115 locations with coincident features should be considered carefully when interpreting the results of this tool.\",\"WARNING 110237: The Dependent Variable was rounded to the nearest whole number to account for the Count Model Type.\",[{\"element\":\"table\",\"data\":[[\"Number of Neighbors\",\"AICc\"],[\"50\",\"NaN\"],[\"1000\",\"25478.3772\"],[\"413\",\"24651.1457\"],[\"637\",\"25041.9116\"],[\"274\",\"23802.1357\"],[\"189\",\"23117.9720\"],[\"136\",\"22246.3045\"],[\"103\",\"21469.3461\"],[\"83\",\"20621.4276\"],[\"70\",\"19002.0883\"],[\"62\",\"NaN\"],[\"75\",\"19506.8563\"],[\"67\",\"NaN\"],[\"72\",\"19193.4713\"],[\"69\",\"18914.7598\"],[\"68\",\"18880.3023\"]],\"elementProps\":{\"striped\":\"true\",\"title\":\"Golden Search Results\",\"0\":{\"align\":\"left\",\"pad\":\"0px\",\"wrap\":true},\"1\":{\"align\":\"right\",\"pad\":\"0px\",\"wrap\":true}}}],\"\",[{\"element\":\"table\",\"data\":[[\"Number of Features\",\"3093\"],[\"Dependent Variable\",\"BLEACHING\"],[{\"data\":\"Explanatory Variables\",\"prop\":{\"rowspan\":3}},\"MONTHS\"],[{\"data\":\"MEAN_TSA\",\"prop\":{\"text-align\":\"right\"}}],[{\"data\":\"MEAN_SST\",\"prop\":{\"text-align\":\"right\"}}],[\"Number of Neighbors\",\"68\"]],\"elementProps\":{\"striped\":\"true\",\"noHeader\":true,\"title\":\"Analysis Details\",\"0\":{\"align\":\"left\",\"pad\":\"0px\",\"wrap\":true},\"1\":{\"align\":\"right\",\"pad\":\"0px\",\"wrap\":true}}}],[{\"element\":\"table\",\"data\":[[\"Deviance explained by the global model (non-spatial)\",\"0.0064\"],[\"Deviance explained by the local model\",\"0.3867\"],[\"Deviance explained by the local model vs global model\",\"0.3828\"],[\"AICc\",\"18880.3023\"],[\"Sigma-Squared\",\"72.2727\"],[\"Sigma-Squared MLE\",\"69.6975\"],[\"Effective Degrees of Freedom\",\"2982.7896\"],[\"Adjusted Critical Value of Pseudo-t Statistics\",\"3.1446\"]],\"elementProps\":{\"striped\":\"true\",\"noHeader\":true,\"title\":\"Model Diagnostics\",\"0\":{\"align\":\"left\",\"pad\":\"0px\",\"wrap\":true},\"1\":{\"align\":\"right\",\"pad\":\"0px\",\"wrap\":true}}}],\"\",\"Succeeded at Friday, August 16, 2024 10:35:07 AM (Elapsed Time: 1 minutes 46 seconds)\"]' data-show='true'><div id = 'default' /></div></div>"
      ],
      "text/plain": [
       "<Result 'D:\\\\Working_projects\\\\03_JAXA_Coral_reef\\\\Temporary\\\\GWR.shp'>"
      ]
     },
     "execution_count": 8,
     "metadata": {},
     "output_type": "execute_result"
    }
   ],
   "source": [
    "feature = \"Average_1.shp\"\n",
    "\n",
    "arcpy.stats.GWR(\n",
    "    in_features= feature,\n",
    "    dependent_variable=\"Bleaching\",\n",
    "    model_type=\"COUNT\",\n",
    "    explanatory_variables=\"MONTHS;MEAN_TSA;Mean_SST\",\n",
    "    output_features=\"../Temporary/GWR.shp\",\n",
    "    neighborhood_type=\"NUMBER_OF_NEIGHBORS\",\n",
    "    neighborhood_selection_method=\"GOLDEN_SEARCH\",\n",
    "    minimum_number_of_neighbors=50,\n",
    "    maximum_number_of_neighbors=None,\n",
    "    minimum_search_distance=\"\",\n",
    "    maximum_search_distance=\"\",\n",
    "    number_of_neighbors_increment=None,\n",
    "    search_distance_increment=None,\n",
    "    number_of_increments=None,\n",
    "    number_of_neighbors=None,\n",
    "    distance_band=None,\n",
    "    prediction_locations=None,\n",
    "    explanatory_variables_to_match=None,\n",
    "    output_predicted_features=None,\n",
    "    robust_prediction=\"ROBUST\",\n",
    "    local_weighting_scheme=\"GAUSSIAN\",\n",
    "    coefficient_raster_workspace=\"../Output\",\n",
    "    scale=\"SCALE_DATA\"\n",
    ")"
   ]
  },
  {
   "cell_type": "markdown",
   "metadata": {},
   "source": [
    "# Improving the resolution of the rasters"
   ]
  },
  {
   "cell_type": "code",
   "execution_count": 22,
   "metadata": {},
   "outputs": [],
   "source": [
    "GWR_coef_SST = arcpy.ia.Raster(\"../Output/GWR_MEAN_SST.tif\")\n",
    "GWR_Intercept = arcpy.ia.Raster(\"../Output/GWR_INTERCEPT.tif\")\n",
    "GWR_coef_MEAN_TSA = arcpy.ia.Raster(\"../Output/GWR_MEAN_TSA.tif\")\n",
    "GWR_coef_MONTHS = arcpy.ia.Raster(\"../Output/GWR_MONTHS.tif\")\n",
    "\n",
    "for raster in [GWR_coef_SST, GWR_Intercept, GWR_coef_MEAN_TSA, GWR_coef_MONTHS]:\n",
    "    raster_ressampled = str(raster).split('.tif')[0] + '_ressampled.tif'\n",
    "    print(raster_ressampled)\n",
    "    arcpy.management.Resample(\n",
    "    in_raster= raster,\n",
    "    out_raster=raster_ressampled,\n",
    "    cell_size=\"1 1\",\n",
    "    resampling_type=\"CUBIC\"\n",
    ")\n",
    "\n",
    "GWR_coef_SST = arcpy.ia.Raster(\"../Output/GWR_MEAN_SST_ressampled.tif\")\n",
    "GWR_Intercept = arcpy.ia.Raster(\"../Output/GWR_INTERCEPT_ressampled.tif\")\n",
    "GWR_coef_MEAN_TSA = arcpy.ia.Raster(\"../Output/GWR_MEAN_TSA_ressampled.tif\")\n",
    "GWR_coef_MONTHS = arcpy.ia.Raster(\"C../Output/GWR_DAYS_ressampled.tif\")"
   ]
  },
  {
   "cell_type": "markdown",
   "metadata": {},
   "source": [
    "# Joining the results of the GWR with the original shapefile"
   ]
  },
  {
   "cell_type": "code",
   "execution_count": 10,
   "metadata": {
    "scrolled": true
   },
   "outputs": [
    {
     "data": {
      "text/html": [
       "<div class='gpresult'><h2>Messages</h2><div id='messages'>Start Time: Friday, August 16, 2024 10:51:37 AM<br>Succeeded at Friday, August 16, 2024 10:51:38 AM (Elapsed Time: 0.27 seconds)<br></div><div id = 'default' /></div></div>"
      ],
      "text/plain": [
       "<Result 'D:/Working_projects/03_JAXA_Coral_reef/Temporary/Average_1_with_GWR_coefficients.shp'>"
      ]
     },
     "execution_count": 10,
     "metadata": {},
     "output_type": "execute_result"
    }
   ],
   "source": [
    "original_shapefile = \"../Temporary/Average_1.shp\"\n",
    "GWR_shp = \"../Temporary/GWR.shp\"\n",
    "outFeature = \"../Output/Average_1_with_GWR_coefficients.shp\"\n",
    "\n",
    "# Joining the result of the GWR with the original data\n",
    "arcpy.analysis.SpatialJoin(\n",
    "    target_features=original_shapefile,\n",
    "    join_features=GWR_shp,\n",
    "    out_feature_class=outFeature,\n",
    "    join_operation=\"JOIN_ONE_TO_ONE\",\n",
    "    join_type=\"KEEP_ALL\",\n",
    "    match_option=\"INTERSECT\",\n",
    "    search_radius=None,\n",
    "    distance_field_name=\"\",\n",
    "    match_fields=None\n",
    ")\n",
    "\n",
    "# Predicting future values\n",
    "## Adding a new field \n",
    "arcpy.management.AddField(\n",
    "    in_table=outFeature,\n",
    "    field_name=\"BL_205045\",\n",
    "    field_type=\"DOUBLE\",\n",
    "    field_precision=10,\n",
    "    field_scale=5,\n",
    "    field_length=None,\n",
    "    field_alias=\"\",\n",
    "    field_is_nullable=\"NULLABLE\",\n",
    "    field_is_required=\"NON_REQUIRED\",\n",
    "    field_domain=\"\"\n",
    ")\n",
    "\n",
    "## Calculating the field\n",
    "exp = \"min(100, math.exp(!C_MEAN_TSA! * !TSA_205045! + !C_MEAN_SST! * (!SST_205045! + 273.15) + !C_MONTHS! * 828 + !INTRCPT!))\"\n",
    "arcpy.management.CalculateField(\n",
    "    in_table=outFeature,\n",
    "    field=\"BL_205045\",\n",
    "    expression=exp,\n",
    "    expression_type=\"PYTHON3\"\n",
    ")\n",
    "\n",
    "# Predicting future values\n",
    "## Adding a new field \n",
    "arcpy.management.AddField(\n",
    "    in_table=outFeature,\n",
    "    field_name=\"BL_205085\",\n",
    "    field_type=\"DOUBLE\",\n",
    "    field_precision=10,\n",
    "    field_scale=5,\n",
    "    field_length=None,\n",
    "    field_alias=\"\",\n",
    "    field_is_nullable=\"NULLABLE\",\n",
    "    field_is_required=\"NON_REQUIRED\",\n",
    "    field_domain=\"\"\n",
    ")\n",
    "\n",
    "## Calculating the field\n",
    "exp = \"min(100, math.exp(!C_MEAN_TSA! * !TSA_205085! + !C_MEAN_SST! * (!SST_205085! + 273.15) + !C_MONTHS! * 828 + !INTRCPT!))\"\n",
    "arcpy.management.CalculateField(\n",
    "    in_table=outFeature,\n",
    "    field=\"BL_205085\",\n",
    "    expression=exp,\n",
    "    expression_type=\"PYTHON3\"\n",
    ")\n",
    "\n",
    "# Predicting future values\n",
    "## Adding a new field\n",
    "arcpy.management.AddField(\n",
    "    in_table=outFeature,\n",
    "    field_name=\"BL_210045\",\n",
    "    field_type=\"DOUBLE\",\n",
    "    field_precision=10,\n",
    "    field_scale=5,\n",
    "    field_length=None,\n",
    "    field_alias=\"\",\n",
    "    field_is_nullable=\"NULLABLE\",\n",
    "    field_is_required=\"NON_REQUIRED\",\n",
    "    field_domain=\"\"\n",
    ")\n",
    "\n",
    "## Calculating the field\n",
    "exp = \"min(100, math.exp(!C_MEAN_TSA! * !TSA_210045! + !C_MEAN_SST! * (!SST_210045! + 273.15) + !C_MONTHS! * 957 + !INTRCPT!))\"\n",
    "arcpy.management.CalculateField(\n",
    "    in_table=outFeature,\n",
    "    field=\"BL_210045\",\n",
    "    expression=exp,\n",
    "    expression_type=\"PYTHON3\"\n",
    ")\n",
    "\n",
    "# Predicting future values\n",
    "## Adding a new field \n",
    "arcpy.management.AddField(\n",
    "    in_table=outFeature,\n",
    "    field_name=\"BL_210085\",\n",
    "    field_type=\"DOUBLE\",\n",
    "    field_precision=10,\n",
    "    field_scale=5,\n",
    "    field_length=None,\n",
    "    field_alias=\"\",\n",
    "    field_is_nullable=\"NULLABLE\",\n",
    "    field_is_required=\"NON_REQUIRED\",\n",
    "    field_domain=\"\"\n",
    ")\n",
    "\n",
    "## Calculating the field\n",
    "exp = \"min(100, math.exp(!C_MEAN_TSA! * !TSA_210085! + !C_MEAN_SST! * (!SST_210085! + 273.15) + !C_MONTHS! * 957 + !INTRCPT!))\"\n",
    "arcpy.management.CalculateField(\n",
    "    in_table=outFeature,\n",
    "    field=\"BL_210085\",\n",
    "    expression=exp,\n",
    "    expression_type=\"PYTHON3\"\n",
    ")"
   ]
  },
  {
   "cell_type": "markdown",
   "metadata": {},
   "source": [
    "# Interpolating and exporting the results of GWR"
   ]
  },
  {
   "cell_type": "code",
   "execution_count": 4,
   "metadata": {},
   "outputs": [
    {
     "name": "stdout",
     "output_type": "stream",
     "text": [
      "Interpolates the raster\n",
      "Extract by mask\n",
      "Zonal Staitistics\n",
      "Interpolates the raster\n",
      "Extract by mask\n",
      "Zonal Staitistics\n",
      "Interpolates the raster\n",
      "Extract by mask\n",
      "Zonal Staitistics\n",
      "Interpolates the raster\n",
      "Extract by mask\n",
      "Zonal Staitistics\n"
     ]
    }
   ],
   "source": [
    "mask = \"Ecoregion_merged_ecorregionPolygons.shp\"\n",
    "points_features = \"../Output/Average_1_with_GWR_coefficients.shp\"\n",
    "\n",
    "for variable in [\"BL_205045\",\"BL_205085\", \"BL_210045\", \"BL_210085\"]:                 \n",
    "    raster_Bleach = f'../Output/{variable}.tif'\n",
    "    output_raster = f'../Output/{variable}_masked.tif'\n",
    "\n",
    "    print(\"Interpolates the raster\")\n",
    "    arcpy.ddd.Idw(\n",
    "        in_point_features= points_features,\n",
    "        z_field= variable,\n",
    "        out_raster= raster_Bleach,\n",
    "        cell_size=1,\n",
    "        power=2,\n",
    "        search_radius=\"VARIABLE 12\",\n",
    "        in_barrier_polyline_features=None\n",
    "    )\n",
    "\n",
    "    print(\"Extract by mask\")\n",
    "    out_raster = arcpy.sa.ExtractByMask(\n",
    "        in_raster=raster_Bleach,\n",
    "        in_mask_data=mask,\n",
    "        extraction_area=\"INSIDE\",\n",
    "        analysis_extent=mask\n",
    "    )\n",
    "    out_raster.save(output_raster)\n",
    "\n",
    "    print(\"Zonal Staitistics\")\n",
    "    outtable = f'../Output/Projections_{variable}.dbf'\n",
    "    arcpy.ia.ZonalStatisticsAsTable(\n",
    "        in_zone_data=mask,\n",
    "        zone_field=\"Ecoregion\",\n",
    "        in_value_raster=out_raster,\n",
    "        out_table=outtable ,\n",
    "        ignore_nodata=\"DATA\",\n",
    "        statistics_type=\"ALL\",\n",
    "        process_as_multidimensional=\"CURRENT_SLICE\",\n",
    "        percentile_values=[90],\n",
    "        percentile_interpolation_type=\"AUTO_DETECT\",\n",
    "        circular_calculation=\"ARITHMETIC\",\n",
    "        circular_wrap_value=360,\n",
    "        out_join_layer=None\n",
    "    )"
   ]
  },
  {
   "cell_type": "markdown",
   "metadata": {},
   "source": [
    "# Estimate the improvement from passing from RCP 4.5 to RCP 8.5 in 2050"
   ]
  },
  {
   "cell_type": "code",
   "execution_count": 5,
   "metadata": {},
   "outputs": [
    {
     "data": {
      "text/html": [
       "<div class='gpresult'><h2>Messages</h2><div id='messages'>Start Time: Thursday, August 22, 2024 2:13:01 PM<br>Succeeded at Thursday, August 22, 2024 2:13:02 PM (Elapsed Time: 0.58 seconds)<br></div><div id = 'default' /></div></div>"
      ],
      "text/plain": [
       "<geoprocessing server result object object at 0x00000197462D1CE0>"
      ]
     },
     "execution_count": 5,
     "metadata": {},
     "output_type": "execute_result"
    }
   ],
   "source": [
    "raster_Bleach_RCP452050 = arcpy.ia.Raster('../Output/BL_205045_masked.tif')\n",
    "raster_Bleach_RCP852050 = arcpy.ia.Raster('../Output/BL_205085_masked.tif')\n",
    "export_file = \"Ecoregion_merged_ecorregionPolygons.shp\"\n",
    "Improvement = raster_Bleach_RCP452050 - raster_Bleach_RCP852050\n",
    "outtable = '../Output/Improvement.dbf'\n",
    "arcpy.ia.ZonalStatisticsAsTable(\n",
    "    in_zone_data=export_file,\n",
    "    zone_field=\"Ecoregion\",\n",
    "    in_value_raster=Improvement,\n",
    "    out_table=outtable ,\n",
    "    ignore_nodata=\"DATA\",\n",
    "    statistics_type=\"ALL\",\n",
    "    process_as_multidimensional=\"CURRENT_SLICE\",\n",
    "    percentile_values=[90],\n",
    "    percentile_interpolation_type=\"AUTO_DETECT\",\n",
    "    circular_calculation=\"ARITHMETIC\",\n",
    "    circular_wrap_value=360,\n",
    "    out_join_layer=None\n",
    ")"
   ]
  },
  {
   "cell_type": "markdown",
   "metadata": {},
   "source": [
    "# Interpolation and Exporting the results of Stata"
   ]
  },
  {
   "cell_type": "code",
   "execution_count": 6,
   "metadata": {},
   "outputs": [
    {
     "name": "stdout",
     "output_type": "stream",
     "text": [
      "Working on raster RCP452050\n",
      "   Interpolates the raster\n",
      "   Extract by mask\n",
      "   Zonal Staitistics\n",
      "Working on raster RCP852050\n",
      "   Interpolates the raster\n",
      "   Extract by mask\n",
      "   Zonal Staitistics\n",
      "Working on raster RCP452100\n",
      "   Interpolates the raster\n",
      "   Extract by mask\n",
      "   Zonal Staitistics\n",
      "Working on raster RCP852100\n",
      "   Interpolates the raster\n",
      "   Extract by mask\n",
      "   Zonal Staitistics\n"
     ]
    }
   ],
   "source": [
    "mask = \"Ecoregion_merged_ecorregionPolygons.shp\"\n",
    "prediction_Stata_dbf  = \"../Ouput/Stationnary_prediction_RCPs.dbf\"\n",
    "Layer_name = \"Stata_pred\"\n",
    "factorycode = 4326\n",
    "sr = arcpy.SpatialReference(factorycode)\n",
    "data_average_shp_folder = \"../Temporary\"\n",
    "\n",
    "arcpy.management.MakeXYEventLayer(\n",
    "    table=prediction_Stata_dbf,\n",
    "    in_x_field=\"Long\",\n",
    "    in_y_field=\"lat\",\n",
    "    out_layer=Layer_name,\n",
    "    spatial_reference=sr,\n",
    "    in_z_field=None\n",
    ")\n",
    "\n",
    "# Creating XY Event Layer\n",
    "print('Export to shapefile')\n",
    "arcpy.conversion.FeatureClassToShapefile(\n",
    "    Input_Features=Layer_name,\n",
    "    Output_Folder=data_average_shp_folder\n",
    ")\n",
    "\n",
    "point_feature = \"../Temporary/Stata_pred.shp\"\n",
    "for variable in [\"RCP452050\", \"RCP852050\", \"RCP452100\", \"RCP852100\"]:\n",
    "    print(f'Working on raster {variable}')\n",
    "    outraster_world = f'../Temporary/{variable}_station'\n",
    "    output_raster = f'../Output/Projection_{variable}_station.tif'\n",
    "\n",
    "    print(\"   Interpolates the raster\")\n",
    "    arcpy.ddd.Idw(\n",
    "        in_point_features= point_feature,\n",
    "        z_field= variable,\n",
    "        out_raster= outraster_world,\n",
    "        cell_size=1,\n",
    "        power=2,\n",
    "        search_radius=\"VARIABLE 12\",\n",
    "        in_barrier_polyline_features=None\n",
    "    )\n",
    "\n",
    "    print(\"   Extract by mask\")\n",
    "    out_raster = arcpy.sa.ExtractByMask(\n",
    "        in_raster=outraster_world,\n",
    "        in_mask_data=mask,\n",
    "        extraction_area=\"INSIDE\",\n",
    "        analysis_extent=mask\n",
    "    )\n",
    "    out_raster.save(output_raster)\n",
    "    \n",
    "    print(\"   Zonal Staitistics\")\n",
    "    outtable = f\"../Output/Projections_Station_{variable}.dbf\"\n",
    "    arcpy.ia.ZonalStatisticsAsTable(\n",
    "        in_zone_data=mask,\n",
    "        zone_field=\"Ecoregion\",\n",
    "        in_value_raster=out_raster,\n",
    "        out_table=outtable ,\n",
    "        ignore_nodata=\"DATA\",\n",
    "        statistics_type=\"ALL\",\n",
    "        process_as_multidimensional=\"CURRENT_SLICE\",\n",
    "        percentile_values=[90],\n",
    "        percentile_interpolation_type=\"AUTO_DETECT\",\n",
    "        circular_calculation=\"ARITHMETIC\",\n",
    "        circular_wrap_value=360,\n",
    "        out_join_layer=None\n",
    "    )"
   ]
  }
 ],
 "metadata": {
  "kernelspec": {
   "display_name": "ArcGISPro",
   "language": "Python",
   "name": "python3"
  },
  "language_info": {
   "file_extension": ".py",
   "name": "python",
   "version": "3"
  }
 },
 "nbformat": 4,
 "nbformat_minor": 2
}
